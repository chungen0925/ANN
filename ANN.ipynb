{
 "cells": [
  {
   "cell_type": "markdown",
   "id": "a2346846",
   "metadata": {},
   "source": [
    "資料來源:歐洲某家銀行客戶的資料(https://www.kaggle.com/hemantc/churn-modelling/data)\n",
    "\n",
    "背景敘述:我們建立一個類神經網路(深度學習)，來對我們的資料進行預測。我們針對資料中客戶的詳細資訊來判斷客戶是否會離開此家銀行。"
   ]
  },
  {
   "cell_type": "markdown",
   "id": "9bb9867f",
   "metadata": {},
   "source": [
    "Importing the libraries\n",
    "導入標準庫"
   ]
  },
  {
   "cell_type": "code",
   "execution_count": 1,
   "id": "4fafe508",
   "metadata": {},
   "outputs": [],
   "source": [
    "import numpy as np\n",
    "import matplotlib.pyplot as plt\n",
    "import pandas as pd"
   ]
  },
  {
   "cell_type": "markdown",
   "id": "934ed62e",
   "metadata": {},
   "source": [
    "Importing the dataset\n",
    "導入資料集並且顯示我們的資料"
   ]
  },
  {
   "cell_type": "code",
   "execution_count": 2,
   "id": "ed35786a",
   "metadata": {},
   "outputs": [],
   "source": [
    "dataset = pd.read_csv('Churn_Modelling.csv')"
   ]
  },
  {
   "cell_type": "code",
   "execution_count": 3,
   "id": "63e89b86",
   "metadata": {},
   "outputs": [
    {
     "data": {
      "text/html": [
       "<div>\n",
       "<style scoped>\n",
       "    .dataframe tbody tr th:only-of-type {\n",
       "        vertical-align: middle;\n",
       "    }\n",
       "\n",
       "    .dataframe tbody tr th {\n",
       "        vertical-align: top;\n",
       "    }\n",
       "\n",
       "    .dataframe thead th {\n",
       "        text-align: right;\n",
       "    }\n",
       "</style>\n",
       "<table border=\"1\" class=\"dataframe\">\n",
       "  <thead>\n",
       "    <tr style=\"text-align: right;\">\n",
       "      <th></th>\n",
       "      <th>RowNumber</th>\n",
       "      <th>CustomerId</th>\n",
       "      <th>Surname</th>\n",
       "      <th>CreditScore</th>\n",
       "      <th>Geography</th>\n",
       "      <th>Gender</th>\n",
       "      <th>Age</th>\n",
       "      <th>Tenure</th>\n",
       "      <th>Balance</th>\n",
       "      <th>NumOfProducts</th>\n",
       "      <th>HasCrCard</th>\n",
       "      <th>IsActiveMember</th>\n",
       "      <th>EstimatedSalary</th>\n",
       "      <th>Exited</th>\n",
       "    </tr>\n",
       "  </thead>\n",
       "  <tbody>\n",
       "    <tr>\n",
       "      <th>0</th>\n",
       "      <td>1</td>\n",
       "      <td>15634602</td>\n",
       "      <td>Hargrave</td>\n",
       "      <td>619</td>\n",
       "      <td>France</td>\n",
       "      <td>Female</td>\n",
       "      <td>42</td>\n",
       "      <td>2</td>\n",
       "      <td>0.00</td>\n",
       "      <td>1</td>\n",
       "      <td>1</td>\n",
       "      <td>1</td>\n",
       "      <td>101348.88</td>\n",
       "      <td>1</td>\n",
       "    </tr>\n",
       "    <tr>\n",
       "      <th>1</th>\n",
       "      <td>2</td>\n",
       "      <td>15647311</td>\n",
       "      <td>Hill</td>\n",
       "      <td>608</td>\n",
       "      <td>Spain</td>\n",
       "      <td>Female</td>\n",
       "      <td>41</td>\n",
       "      <td>1</td>\n",
       "      <td>83807.86</td>\n",
       "      <td>1</td>\n",
       "      <td>0</td>\n",
       "      <td>1</td>\n",
       "      <td>112542.58</td>\n",
       "      <td>0</td>\n",
       "    </tr>\n",
       "    <tr>\n",
       "      <th>2</th>\n",
       "      <td>3</td>\n",
       "      <td>15619304</td>\n",
       "      <td>Onio</td>\n",
       "      <td>502</td>\n",
       "      <td>France</td>\n",
       "      <td>Female</td>\n",
       "      <td>42</td>\n",
       "      <td>8</td>\n",
       "      <td>159660.80</td>\n",
       "      <td>3</td>\n",
       "      <td>1</td>\n",
       "      <td>0</td>\n",
       "      <td>113931.57</td>\n",
       "      <td>1</td>\n",
       "    </tr>\n",
       "    <tr>\n",
       "      <th>3</th>\n",
       "      <td>4</td>\n",
       "      <td>15701354</td>\n",
       "      <td>Boni</td>\n",
       "      <td>699</td>\n",
       "      <td>France</td>\n",
       "      <td>Female</td>\n",
       "      <td>39</td>\n",
       "      <td>1</td>\n",
       "      <td>0.00</td>\n",
       "      <td>2</td>\n",
       "      <td>0</td>\n",
       "      <td>0</td>\n",
       "      <td>93826.63</td>\n",
       "      <td>0</td>\n",
       "    </tr>\n",
       "    <tr>\n",
       "      <th>4</th>\n",
       "      <td>5</td>\n",
       "      <td>15737888</td>\n",
       "      <td>Mitchell</td>\n",
       "      <td>850</td>\n",
       "      <td>Spain</td>\n",
       "      <td>Female</td>\n",
       "      <td>43</td>\n",
       "      <td>2</td>\n",
       "      <td>125510.82</td>\n",
       "      <td>1</td>\n",
       "      <td>1</td>\n",
       "      <td>1</td>\n",
       "      <td>79084.10</td>\n",
       "      <td>0</td>\n",
       "    </tr>\n",
       "  </tbody>\n",
       "</table>\n",
       "</div>"
      ],
      "text/plain": [
       "   RowNumber  CustomerId   Surname  CreditScore Geography  Gender  Age  \\\n",
       "0          1    15634602  Hargrave          619    France  Female   42   \n",
       "1          2    15647311      Hill          608     Spain  Female   41   \n",
       "2          3    15619304      Onio          502    France  Female   42   \n",
       "3          4    15701354      Boni          699    France  Female   39   \n",
       "4          5    15737888  Mitchell          850     Spain  Female   43   \n",
       "\n",
       "   Tenure    Balance  NumOfProducts  HasCrCard  IsActiveMember  \\\n",
       "0       2       0.00              1          1               1   \n",
       "1       1   83807.86              1          0               1   \n",
       "2       8  159660.80              3          1               0   \n",
       "3       1       0.00              2          0               0   \n",
       "4       2  125510.82              1          1               1   \n",
       "\n",
       "   EstimatedSalary  Exited  \n",
       "0        101348.88       1  \n",
       "1        112542.58       0  \n",
       "2        113931.57       1  \n",
       "3         93826.63       0  \n",
       "4         79084.10       0  "
      ]
     },
     "execution_count": 3,
     "metadata": {},
     "output_type": "execute_result"
    }
   ],
   "source": [
    "def load_csv_data(file):\n",
    "    return pd.read_csv(file)\n",
    "meau = load_csv_data(\"Churn_Modelling.csv\")\n",
    "meau.head()#只會顯示前五筆資料"
   ]
  },
  {
   "cell_type": "markdown",
   "id": "6d452d95",
   "metadata": {},
   "source": [
    "Feature如下:\n",
    "RowNumber\n",
    "CustomerId\t    (客戶編號)\n",
    "Surname\t        (姓氏)\n",
    "CreditScore\t    (信用分數)\n",
    "Geography\t    (國家)\n",
    "Gender\t        (性別)\n",
    "Age\t            (年齡)\n",
    "Tenure\t        (客戶任期)\n",
    "Balance\t        (存款餘額)\n",
    "NumOfProducts\t(購買銀行幾項產品)\n",
    "HasCrCard\t    (是否擁有該家銀行信用卡)\n",
    "IsActiveMember\t(是否為活躍客戶)\n",
    "EstimatedSalary\t(估計薪水)\n",
    "Exited\t        (是否離開此家銀行)"
   ]
  },
  {
   "cell_type": "markdown",
   "id": "0b3325cd",
   "metadata": {},
   "source": [
    "Setting argument and independent variable\n",
    "選擇我們的自變量以及因變量\n",
    "\n",
    "我們選擇對因變量可能有影響的feature\n",
    "\n",
    "自變量(X)選擇:信用分數、國家、性別、年齡、客戶任期、存款餘額、購買幾項銀行產品、是否擁有該家銀行信用卡、是否為活躍客戶、估計薪水\n",
    "\n",
    "因變量(Y)選擇:是否離開此家銀行"
   ]
  },
  {
   "cell_type": "code",
   "execution_count": 4,
   "id": "65703977",
   "metadata": {},
   "outputs": [],
   "source": [
    "X = dataset.iloc[:, 3:13].values #select all rows and 3rd-12th columns\n",
    "y = dataset.iloc[:, 13].values #select all rows and 13th columns"
   ]
  },
  {
   "cell_type": "markdown",
   "id": "27bd9c23",
   "metadata": {},
   "source": [
    "Encoding categorical data\n",
    "針對分類數據(國家、性別)進行處理\n",
    "\n",
    "國家(X[:, 1]):法國對應0，德國對應1，西班牙對應2\n",
    "因為國家並非只有0、1，所以我們使用OneHotEncoder對分類數據進行編碼\n",
    "\n",
    "性別(X[:, 2]):女性對應到的值為0，男性對應到的值為1\n",
    "\n",
    "避免虛擬變量陷阱，原本是三個變量，後來改為兩個\n",
    "\n",
    "remainder='passthrough':all remaining columns that were not specified in transformers will be automatically passed through. ColumnTransformer其中的參數[1]:表示更改第一行的值"
   ]
  },
  {
   "cell_type": "code",
   "execution_count": 5,
   "id": "2d824697",
   "metadata": {},
   "outputs": [],
   "source": [
    "from sklearn.preprocessing import LabelEncoder, OneHotEncoder\n",
    "from sklearn.compose import ColumnTransformer\n",
    "labelencoder_X_1 = LabelEncoder()\n",
    "X[:, 1] = labelencoder_X_1.fit_transform(X[:, 1])\n",
    "labelencoder_X_2 = LabelEncoder()\n",
    "X[:, 2] = labelencoder_X_2.fit_transform(X[:, 2])\n",
    "ct=ColumnTransformer([('Country',OneHotEncoder(),[1])],remainder='passthrough')\n",
    "X = ct.fit_transform(X)\n",
    "X = X[:, 1:] #避免虛擬變量陷阱，原本國家是三個變量，後來改為兩個\n"
   ]
  },
  {
   "cell_type": "markdown",
   "id": "5372a37f",
   "metadata": {},
   "source": [
    "Splitting the dataset into the Training set and Test set\n",
    "將一萬個數據分成8000個訓練集跟2000個測試集"
   ]
  },
  {
   "cell_type": "code",
   "execution_count": 6,
   "id": "f34ebc1e",
   "metadata": {},
   "outputs": [],
   "source": [
    "from sklearn.model_selection import train_test_split\n",
    "X_train, X_test, y_train, y_test = train_test_split(X, y, test_size = 0.2, random_state = 0)"
   ]
  },
  {
   "cell_type": "markdown",
   "id": "d4639d79",
   "metadata": {},
   "source": [
    "特徵縮放(Feature Scaling)\n",
    "因為我們要避免一個自變量遠大於其他自變量"
   ]
  },
  {
   "cell_type": "code",
   "execution_count": 7,
   "id": "3192c409",
   "metadata": {},
   "outputs": [],
   "source": [
    "from sklearn.preprocessing import StandardScaler\n",
    "sc = StandardScaler()\n",
    "X_train = sc.fit_transform(X_train)\n",
    "X_test = sc.transform(X_test)"
   ]
  },
  {
   "cell_type": "markdown",
   "id": "03af1fb9",
   "metadata": {},
   "source": [
    "Importing the Keras libraries and packages\n",
    "導入Keras的標準庫以及工具包(Sequential,Dense)\n",
    "\n",
    "如何安裝:打開終端機(prompt)，輸入指令安裝\n",
    "conda install tensorflow\n",
    "conda install -c conda-forge keras\n",
    "conda update --all\n",
    "\n",
    "Sequential:幫助我們初始化神經網路\n",
    "Dense:初始化神經網路後要加上一層一層的網路(輸入層、隱藏層、輸出層)"
   ]
  },
  {
   "cell_type": "code",
   "execution_count": 8,
   "id": "3ed9556f",
   "metadata": {},
   "outputs": [],
   "source": [
    "import keras\n",
    "from keras.models import Sequential\n",
    "from keras.layers import Dense"
   ]
  },
  {
   "cell_type": "markdown",
   "id": "820687e5",
   "metadata": {},
   "source": [
    "創建人工神經網路(輸入層、隱藏層、輸出層)\n",
    "利用隨機梯度下降(Stochastic Gradient Descent)來訓練神經網路\n",
    "\n",
    "Step1:隨機初始化權重，使得權重接近0但不為0。\n",
    "\n",
    "Step2:將第一個觀察數據輸入\"輸入層(input layer)\"，每一個自變量特徵佔據一個神經元(input neurun)。\n",
    "\n",
    "Step3:正向傳播:神經元由左至右傳入，活絡每一個神經元。每個神經元得到的值都與上一層神經元輸入的值有關。\n",
    "\n",
    "Step4:比較神經網路輸出結果(預測值)和實際觀察的結果，計算其中的誤差。\n",
    "\n",
    "Step5:反向傳播:將誤差由右至左反向傳播，依據誤差相對於權重的梯度，對每個權重進行更新，以達到最小化損失函數的目標。更新的速率是由學習速率以及梯度共同決定。\n",
    "\n",
    "Step6:\n",
    "針對一個新的數據進行觀察，並且重複Step1-Step5。(強化式學習reinforcement learning)\n",
    "針對一組新的數據進行觀察，並且重複Step1-Step5。(批次學習batch learning)\n",
    "此時損失函數的值是這一組所有觀察數據產生誤差的總和。\n",
    "\n",
    "Step7:當整個訓練集都被輸入到神經網路以後，稱作一\"期(Epoch)\"訓練。我們可以進行更多\"期(Epoch)\"的訓練，優化我們的模型，提高我們的預測結果。"
   ]
  },
  {
   "cell_type": "code",
   "execution_count": 9,
   "id": "4b3c245f",
   "metadata": {},
   "outputs": [],
   "source": [
    "classifier = Sequential()"
   ]
  },
  {
   "cell_type": "markdown",
   "id": "ba48fd3c",
   "metadata": {},
   "source": [
    "Adding the input layer and the first hidden layer\n",
    "增加輸入層以及第一個隱藏層\n",
    "\n",
    "Rectifier函數:適合用在隱藏層 Relu(X)=max(X,0)\n",
    "Sigmoid函數:適合用在輸出層，因為函數輸出的值位在0跟1之間\n",
    "\n",
    "unit:代表這一層輸出的維度有多少，這一層有多少神經元。\n",
    "經過實驗經驗unit的選擇通常是(輸入層+輸出層)/2，舉例:(11+1)/2=6。\n",
    "\n",
    "activation:代表函數選擇(\"relu\"or\"sigmoid\")。\n",
    "\n",
    "kernel_initializer:代表初始化權重的一個方法(\"uniform\"代表隨機初始化)。\n",
    "\n",
    "input_dim:輸入層的神經元個數。"
   ]
  },
  {
   "cell_type": "code",
   "execution_count": 10,
   "id": "a853aea5",
   "metadata": {},
   "outputs": [],
   "source": [
    "classifier.add(Dense(units = 6, kernel_initializer = 'uniform', activation = 'relu', input_dim = 11))"
   ]
  },
  {
   "cell_type": "markdown",
   "id": "84e02fdb",
   "metadata": {},
   "source": [
    "加入第二層隱藏層"
   ]
  },
  {
   "cell_type": "code",
   "execution_count": 11,
   "id": "44b430d3",
   "metadata": {},
   "outputs": [],
   "source": [
    "classifier.add(Dense(units = 6, kernel_initializer = 'uniform', activation = 'relu'))"
   ]
  },
  {
   "cell_type": "markdown",
   "id": "c494ffa4",
   "metadata": {},
   "source": [
    "加入輸出層\n",
    "unit:更改為1(輸出的神經元個數)，因為我們只要輸出1個結果。\n",
    "activation:更改為\"sigmoid\"(只能判斷一個類別的機率為何)\n",
    "(若要分類結果很多個，activation應該改為\"softmax\")"
   ]
  },
  {
   "cell_type": "code",
   "execution_count": 12,
   "id": "629e327d",
   "metadata": {},
   "outputs": [],
   "source": [
    "classifier.add(Dense(units = 1, kernel_initializer = 'uniform', activation = 'sigmoid'))"
   ]
  },
  {
   "cell_type": "markdown",
   "id": "c85cfb6e",
   "metadata": {},
   "source": [
    "編譯神經網路\n",
    "optimizer:決定step5最小化損失函數的方法\n",
    "\n",
    "loss:損失函數，binary_crossentropy適用在分類結果為二進制，若要分為很多類則使用categorical_crossentropy\n",
    "\n",
    "metrics:性能評估，其中accuracy為準確度"
   ]
  },
  {
   "cell_type": "code",
   "execution_count": 13,
   "id": "6242dc40",
   "metadata": {},
   "outputs": [],
   "source": [
    "classifier.compile(optimizer = 'adam', loss = 'binary_crossentropy', metrics = ['accuracy'])"
   ]
  },
  {
   "cell_type": "markdown",
   "id": "af252fd4",
   "metadata": {},
   "source": [
    "將訓練集放入模型進行訓練"
   ]
  },
  {
   "cell_type": "code",
   "execution_count": 14,
   "id": "143cb8b0",
   "metadata": {
    "scrolled": true
   },
   "outputs": [
    {
     "name": "stdout",
     "output_type": "stream",
     "text": [
      "Epoch 1/100\n",
      "  1/800 [..............................] - ETA: 0s - loss: 0.6931 - accuracy: 0.7000WARNING:tensorflow:Callbacks method `on_train_batch_end` is slow compared to the batch time (batch time: 0.0000s vs `on_train_batch_end` time: 0.0010s). Check your callbacks.\n",
      "800/800 [==============================] - 1s 703us/step - loss: 0.4815 - accuracy: 0.7959\n",
      "Epoch 2/100\n",
      "800/800 [==============================] - 1s 734us/step - loss: 0.4269 - accuracy: 0.7960\n",
      "Epoch 3/100\n",
      "800/800 [==============================] - 1s 683us/step - loss: 0.4197 - accuracy: 0.8170\n",
      "Epoch 4/100\n",
      "800/800 [==============================] - 1s 687us/step - loss: 0.4134 - accuracy: 0.8296\n",
      "Epoch 5/100\n",
      "800/800 [==============================] - 1s 669us/step - loss: 0.4093 - accuracy: 0.8342\n",
      "Epoch 6/100\n",
      "800/800 [==============================] - 1s 692us/step - loss: 0.4065 - accuracy: 0.83530s - loss: 0.4030 - accuracy: 0.83\n",
      "Epoch 7/100\n",
      "800/800 [==============================] - 1s 659us/step - loss: 0.4042 - accuracy: 0.8351\n",
      "Epoch 8/100\n",
      "800/800 [==============================] - 1s 709us/step - loss: 0.4028 - accuracy: 0.8344\n",
      "Epoch 9/100\n",
      "800/800 [==============================] - 1s 651us/step - loss: 0.4015 - accuracy: 0.8344\n",
      "Epoch 10/100\n",
      "800/800 [==============================] - 1s 662us/step - loss: 0.4003 - accuracy: 0.8353\n",
      "Epoch 11/100\n",
      "800/800 [==============================] - 1s 655us/step - loss: 0.3995 - accuracy: 0.8359\n",
      "Epoch 12/100\n",
      "800/800 [==============================] - 1s 701us/step - loss: 0.3989 - accuracy: 0.83500s - loss: 0.4043 - ac\n",
      "Epoch 13/100\n",
      "800/800 [==============================] - 1s 690us/step - loss: 0.3983 - accuracy: 0.8347\n",
      "Epoch 14/100\n",
      "800/800 [==============================] - 1s 673us/step - loss: 0.3972 - accuracy: 0.8347\n",
      "Epoch 15/100\n",
      "800/800 [==============================] - 1s 674us/step - loss: 0.3975 - accuracy: 0.8354\n",
      "Epoch 16/100\n",
      "800/800 [==============================] - 1s 685us/step - loss: 0.3970 - accuracy: 0.8347\n",
      "Epoch 17/100\n",
      "800/800 [==============================] - 1s 702us/step - loss: 0.3969 - accuracy: 0.8350\n",
      "Epoch 18/100\n",
      "800/800 [==============================] - 1s 648us/step - loss: 0.3971 - accuracy: 0.8351\n",
      "Epoch 19/100\n",
      "800/800 [==============================] - 1s 646us/step - loss: 0.3954 - accuracy: 0.8364\n",
      "Epoch 20/100\n",
      "800/800 [==============================] - 1s 666us/step - loss: 0.3963 - accuracy: 0.8363\n",
      "Epoch 21/100\n",
      "800/800 [==============================] - 1s 657us/step - loss: 0.3959 - accuracy: 0.8351\n",
      "Epoch 22/100\n",
      "800/800 [==============================] - 1s 644us/step - loss: 0.3953 - accuracy: 0.8361\n",
      "Epoch 23/100\n",
      "800/800 [==============================] - 1s 723us/step - loss: 0.3955 - accuracy: 0.83570s - loss: 0.3960 - accuracy: 0.83\n",
      "Epoch 24/100\n",
      "800/800 [==============================] - 1s 666us/step - loss: 0.3955 - accuracy: 0.83660s - loss: 0.3982 - accura\n",
      "Epoch 25/100\n",
      "800/800 [==============================] - 1s 729us/step - loss: 0.3948 - accuracy: 0.8363\n",
      "Epoch 26/100\n",
      "800/800 [==============================] - 1s 661us/step - loss: 0.3950 - accuracy: 0.8345\n",
      "Epoch 27/100\n",
      "800/800 [==============================] - 1s 670us/step - loss: 0.3946 - accuracy: 0.8367\n",
      "Epoch 28/100\n",
      "800/800 [==============================] - 1s 750us/step - loss: 0.3948 - accuracy: 0.8370\n",
      "Epoch 29/100\n",
      "800/800 [==============================] - 1s 778us/step - loss: 0.3949 - accuracy: 0.8361\n",
      "Epoch 30/100\n",
      "800/800 [==============================] - 1s 751us/step - loss: 0.3947 - accuracy: 0.8380\n",
      "Epoch 31/100\n",
      "800/800 [==============================] - 1s 746us/step - loss: 0.3947 - accuracy: 0.8359\n",
      "Epoch 32/100\n",
      "800/800 [==============================] - 1s 847us/step - loss: 0.3943 - accuracy: 0.8367\n",
      "Epoch 33/100\n",
      "800/800 [==============================] - 1s 717us/step - loss: 0.3940 - accuracy: 0.8347\n",
      "Epoch 34/100\n",
      "800/800 [==============================] - 1s 822us/step - loss: 0.3942 - accuracy: 0.8389\n",
      "Epoch 35/100\n",
      "800/800 [==============================] - 1s 679us/step - loss: 0.3939 - accuracy: 0.8380\n",
      "Epoch 36/100\n",
      "800/800 [==============================] - 1s 687us/step - loss: 0.3944 - accuracy: 0.8365\n",
      "Epoch 37/100\n",
      "800/800 [==============================] - 1s 713us/step - loss: 0.3941 - accuracy: 0.83650s - loss: 0.3941 - accura - ETA: 0s - loss: 0.3938 - accuracy: 0.\n",
      "Epoch 38/100\n",
      "800/800 [==============================] - 1s 696us/step - loss: 0.3940 - accuracy: 0.8371\n",
      "Epoch 39/100\n",
      "800/800 [==============================] - 1s 680us/step - loss: 0.3942 - accuracy: 0.8365\n",
      "Epoch 40/100\n",
      "800/800 [==============================] - 1s 696us/step - loss: 0.3936 - accuracy: 0.8357\n",
      "Epoch 41/100\n",
      "800/800 [==============================] - 1s 698us/step - loss: 0.3941 - accuracy: 0.8369\n",
      "Epoch 42/100\n",
      "800/800 [==============================] - 1s 702us/step - loss: 0.3938 - accuracy: 0.8378\n",
      "Epoch 43/100\n",
      "800/800 [==============================] - 1s 708us/step - loss: 0.3937 - accuracy: 0.8375\n",
      "Epoch 44/100\n",
      "800/800 [==============================] - 1s 747us/step - loss: 0.3936 - accuracy: 0.8378\n",
      "Epoch 45/100\n",
      "800/800 [==============================] - 1s 806us/step - loss: 0.3928 - accuracy: 0.8370\n",
      "Epoch 46/100\n",
      "800/800 [==============================] - 1s 757us/step - loss: 0.3921 - accuracy: 0.8395\n",
      "Epoch 47/100\n",
      "800/800 [==============================] - 1s 676us/step - loss: 0.3913 - accuracy: 0.8390\n",
      "Epoch 48/100\n",
      "800/800 [==============================] - 1s 733us/step - loss: 0.3900 - accuracy: 0.8386\n",
      "Epoch 49/100\n",
      "800/800 [==============================] - 1s 700us/step - loss: 0.3875 - accuracy: 0.8378\n",
      "Epoch 50/100\n",
      "800/800 [==============================] - 1s 718us/step - loss: 0.3846 - accuracy: 0.8369\n",
      "Epoch 51/100\n",
      "800/800 [==============================] - 1s 717us/step - loss: 0.3801 - accuracy: 0.83670s - loss: 0.3653 - ac\n",
      "Epoch 52/100\n",
      "800/800 [==============================] - 1s 692us/step - loss: 0.3781 - accuracy: 0.8378\n",
      "Epoch 53/100\n",
      "800/800 [==============================] - 1s 694us/step - loss: 0.3738 - accuracy: 0.8395\n",
      "Epoch 54/100\n",
      "800/800 [==============================] - 1s 710us/step - loss: 0.3711 - accuracy: 0.8397\n",
      "Epoch 55/100\n",
      "800/800 [==============================] - 1s 709us/step - loss: 0.3675 - accuracy: 0.8435\n",
      "Epoch 56/100\n",
      "800/800 [==============================] - 1s 699us/step - loss: 0.3646 - accuracy: 0.84470s - loss: 0.3757 - accura\n",
      "Epoch 57/100\n",
      "800/800 [==============================] - 1s 700us/step - loss: 0.3601 - accuracy: 0.8481\n",
      "Epoch 58/100\n",
      "800/800 [==============================] - 1s 704us/step - loss: 0.3580 - accuracy: 0.8537\n",
      "Epoch 59/100\n",
      "800/800 [==============================] - 1s 699us/step - loss: 0.3552 - accuracy: 0.8533\n",
      "Epoch 60/100\n",
      "800/800 [==============================] - 1s 705us/step - loss: 0.3533 - accuracy: 0.8579\n",
      "Epoch 61/100\n",
      "800/800 [==============================] - 1s 695us/step - loss: 0.3521 - accuracy: 0.8570\n",
      "Epoch 62/100\n",
      "800/800 [==============================] - 1s 703us/step - loss: 0.3509 - accuracy: 0.85610s - loss: 0.3\n",
      "Epoch 63/100\n",
      "800/800 [==============================] - 1s 704us/step - loss: 0.3488 - accuracy: 0.8599\n",
      "Epoch 64/100\n",
      "800/800 [==============================] - 1s 715us/step - loss: 0.3485 - accuracy: 0.8597\n",
      "Epoch 65/100\n",
      "800/800 [==============================] - 1s 711us/step - loss: 0.3478 - accuracy: 0.8608\n",
      "Epoch 66/100\n",
      "800/800 [==============================] - 1s 707us/step - loss: 0.3472 - accuracy: 0.8586\n",
      "Epoch 67/100\n",
      "800/800 [==============================] - 1s 752us/step - loss: 0.3462 - accuracy: 0.86100s - loss: 0.3\n",
      "Epoch 68/100\n",
      "800/800 [==============================] - 1s 765us/step - loss: 0.3457 - accuracy: 0.86100s - loss: 0.3416 - accu\n",
      "Epoch 69/100\n",
      "800/800 [==============================] - 1s 772us/step - loss: 0.3443 - accuracy: 0.86210s - loss: 0.3553 - accuracy\n",
      "Epoch 70/100\n",
      "800/800 [==============================] - 1s 705us/step - loss: 0.3444 - accuracy: 0.86140s - loss: 0.3371 - accura\n",
      "Epoch 71/100\n",
      "800/800 [==============================] - 1s 733us/step - loss: 0.3442 - accuracy: 0.8594\n",
      "Epoch 72/100\n",
      "800/800 [==============================] - 1s 746us/step - loss: 0.3435 - accuracy: 0.8589\n",
      "Epoch 73/100\n",
      "800/800 [==============================] - 1s 703us/step - loss: 0.3438 - accuracy: 0.86110s - loss: 0.3221 - accura - ETA: 0s - loss: 0.3410 - accuracy: \n",
      "Epoch 74/100\n",
      "800/800 [==============================] - 1s 658us/step - loss: 0.3420 - accuracy: 0.8580\n",
      "Epoch 75/100\n",
      "800/800 [==============================] - 1s 673us/step - loss: 0.3413 - accuracy: 0.8624\n",
      "Epoch 76/100\n",
      "800/800 [==============================] - 1s 679us/step - loss: 0.3417 - accuracy: 0.8609\n",
      "Epoch 77/100\n",
      "800/800 [==============================] - 1s 661us/step - loss: 0.3411 - accuracy: 0.8604\n",
      "Epoch 78/100\n",
      "800/800 [==============================] - 1s 708us/step - loss: 0.3416 - accuracy: 0.8622\n",
      "Epoch 79/100\n",
      "800/800 [==============================] - ETA: 0s - loss: 0.3411 - accuracy: 0.86 - 1s 688us/step - loss: 0.3415 - accuracy: 0.8610\n",
      "Epoch 80/100\n",
      "800/800 [==============================] - 1s 679us/step - loss: 0.3412 - accuracy: 0.8611\n",
      "Epoch 81/100\n",
      "800/800 [==============================] - 1s 679us/step - loss: 0.3403 - accuracy: 0.86190s - loss: 0.3368 \n",
      "Epoch 82/100\n",
      "800/800 [==============================] - 1s 664us/step - loss: 0.3409 - accuracy: 0.8620\n",
      "Epoch 83/100\n",
      "800/800 [==============================] - 1s 682us/step - loss: 0.3401 - accuracy: 0.8621\n",
      "Epoch 84/100\n",
      "800/800 [==============================] - 1s 674us/step - loss: 0.3396 - accuracy: 0.8616\n",
      "Epoch 85/100\n",
      "800/800 [==============================] - 1s 673us/step - loss: 0.3402 - accuracy: 0.8602\n",
      "Epoch 86/100\n",
      "800/800 [==============================] - 1s 671us/step - loss: 0.3390 - accuracy: 0.86290s - loss: 0.3266 - accuracy\n",
      "Epoch 87/100\n",
      "800/800 [==============================] - 1s 687us/step - loss: 0.3396 - accuracy: 0.86120s - loss: 0.3365 - accuracy\n",
      "Epoch 88/100\n",
      "800/800 [==============================] - 1s 674us/step - loss: 0.3390 - accuracy: 0.86190s - loss: 0.3396 - accuracy: 0.\n",
      "Epoch 89/100\n",
      "800/800 [==============================] - 1s 681us/step - loss: 0.3392 - accuracy: 0.8614\n",
      "Epoch 90/100\n",
      "800/800 [==============================] - 1s 676us/step - loss: 0.3396 - accuracy: 0.8622\n",
      "Epoch 91/100\n",
      "800/800 [==============================] - 1s 675us/step - loss: 0.3389 - accuracy: 0.8629\n",
      "Epoch 92/100\n",
      "800/800 [==============================] - 1s 682us/step - loss: 0.3389 - accuracy: 0.8631\n",
      "Epoch 93/100\n",
      "800/800 [==============================] - 1s 679us/step - loss: 0.3389 - accuracy: 0.8630\n",
      "Epoch 94/100\n",
      "800/800 [==============================] - 1s 690us/step - loss: 0.3383 - accuracy: 0.8620\n",
      "Epoch 95/100\n",
      "800/800 [==============================] - 1s 684us/step - loss: 0.3386 - accuracy: 0.8614\n",
      "Epoch 96/100\n",
      "800/800 [==============================] - 1s 684us/step - loss: 0.3387 - accuracy: 0.8622\n",
      "Epoch 97/100\n",
      "800/800 [==============================] - 1s 698us/step - loss: 0.3373 - accuracy: 0.8626\n",
      "Epoch 98/100\n",
      "800/800 [==============================] - 1s 712us/step - loss: 0.3381 - accuracy: 0.86260s - loss: 0.3398 - accuracy: \n",
      "Epoch 99/100\n",
      "800/800 [==============================] - 1s 685us/step - loss: 0.3383 - accuracy: 0.8630\n",
      "Epoch 100/100\n",
      "800/800 [==============================] - 1s 701us/step - loss: 0.3371 - accuracy: 0.8618\n"
     ]
    },
    {
     "data": {
      "text/plain": [
       "<tensorflow.python.keras.callbacks.History at 0x1efb76740a0>"
      ]
     },
     "execution_count": 14,
     "metadata": {},
     "output_type": "execute_result"
    }
   ],
   "source": [
    "classifier.fit(X_train, y_train, batch_size = 10, epochs = 100)"
   ]
  },
  {
   "cell_type": "markdown",
   "id": "90159e9a",
   "metadata": {},
   "source": [
    "數據預測結果\n",
    "若y_pred大於0.5則為true(表示會離開此家銀行)"
   ]
  },
  {
   "cell_type": "code",
   "execution_count": 15,
   "id": "cc91b692",
   "metadata": {},
   "outputs": [],
   "source": [
    "y_pred = classifier.predict(X_test)\n",
    "y_pred = (y_pred > 0.5)"
   ]
  },
  {
   "cell_type": "markdown",
   "id": "34278c00",
   "metadata": {},
   "source": [
    "以混淆矩陣呈現結果"
   ]
  },
  {
   "cell_type": "code",
   "execution_count": 16,
   "id": "6e73a725",
   "metadata": {},
   "outputs": [],
   "source": [
    "from sklearn.metrics import confusion_matrix\n",
    "cm = confusion_matrix(y_test, y_pred)"
   ]
  },
  {
   "cell_type": "code",
   "execution_count": 17,
   "id": "78fdbbb4",
   "metadata": {},
   "outputs": [
    {
     "name": "stdout",
     "output_type": "stream",
     "text": [
      "Confusion Matrix: \n",
      " [[1509   86]\n",
      " [ 193  212]]\n"
     ]
    }
   ],
   "source": [
    "print('Confusion Matrix: \\n', cm)"
   ]
  }
 ],
 "metadata": {
  "kernelspec": {
   "display_name": "Python 3",
   "language": "python",
   "name": "python3"
  },
  "language_info": {
   "codemirror_mode": {
    "name": "ipython",
    "version": 3
   },
   "file_extension": ".py",
   "mimetype": "text/x-python",
   "name": "python",
   "nbconvert_exporter": "python",
   "pygments_lexer": "ipython3",
   "version": "3.8.8"
  },
  "varInspector": {
   "cols": {
    "lenName": 16,
    "lenType": 16,
    "lenVar": 40
   },
   "kernels_config": {
    "python": {
     "delete_cmd_postfix": "",
     "delete_cmd_prefix": "del ",
     "library": "var_list.py",
     "varRefreshCmd": "print(var_dic_list())"
    },
    "r": {
     "delete_cmd_postfix": ") ",
     "delete_cmd_prefix": "rm(",
     "library": "var_list.r",
     "varRefreshCmd": "cat(var_dic_list()) "
    }
   },
   "oldHeight": 510.397364,
   "position": {
    "height": "40px",
    "left": "487.17px",
    "right": "20px",
    "top": "144.977px",
    "width": "664.006px"
   },
   "types_to_exclude": [
    "module",
    "function",
    "builtin_function_or_method",
    "instance",
    "_Feature"
   ],
   "varInspector_section_display": "none",
   "window_display": false
  }
 },
 "nbformat": 4,
 "nbformat_minor": 5
}
